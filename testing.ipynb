{
 "cells": [
  {
   "cell_type": "code",
   "execution_count": null,
   "metadata": {},
   "outputs": [],
   "source": [
    "import nltk\n",
    "import torch\n",
    "from nltk.corpus import stopwords\n",
    "from nltk.stem import PorterStemmer\n",
    "from sklearn.feature_extraction.text import TfidfVectorizer\n",
    "from sklearn.metrics.pairwise import cosine_similarity\n",
    "from hdbscan import HDBSCAN\n",
    "import pandas as pd\n",
    "from textblob import TextBlob\n",
    "from collections import defaultdict\n",
    "\n",
    "import json\n",
    "import csv\n",
    "from pymongo import MongoClient\n"
   ]
  },
  {
   "cell_type": "code",
   "execution_count": null,
   "metadata": {},
   "outputs": [],
   "source": [
    "\n",
    "from pytorch_pretrained_bert import BertTokenizer, BertModel, BertForMaskedLM\n",
    "from transformers import BertTokenizer as bt\n",
    "\n",
    "import numpy as np\n",
    "\n",
    "from transformers import BertTokenizer, BertModel\n"
   ]
  },
  {
   "cell_type": "code",
   "execution_count": null,
   "metadata": {},
   "outputs": [],
   "source": [
    "import gensim\n",
    "from gensim import corpora, models"
   ]
  },
  {
   "cell_type": "code",
   "execution_count": null,
   "metadata": {},
   "outputs": [],
   "source": [
    "\n",
    "from nltk.tokenize import word_tokenize\n",
    "from collections import Counter\n",
    "import re\n",
    "\n"
   ]
  },
  {
   "cell_type": "code",
   "execution_count": null,
   "metadata": {},
   "outputs": [],
   "source": [
    "# Download NLTK resources if needed\n",
    "nltk.download('punkt')\n",
    "nltk.download('stopwords')\n"
   ]
  },
  {
   "cell_type": "code",
   "execution_count": null,
   "metadata": {},
   "outputs": [],
   "source": [
    "\n",
    "\n",
    "# Load BERT model\n",
    "bert_model = BertModel.from_pretrained('bert-base-uncased')\n",
    "bert_model.eval()\n",
    "\n",
    "# Load reviews from a CSV file\n",
    "# TODO: Make this dynamic\n",
    "df1 = pd.read_csv('/Users/daniel/FitSight-Produhacks2024/DATA/sentiment_reviews_withcount.csv')\n",
    "reviews = df1['review_text'].tolist()  # Replace 'review_text' with your column name if different\n"
   ]
  },
  {
   "cell_type": "code",
   "execution_count": null,
   "metadata": {},
   "outputs": [],
   "source": [
    "\n",
    "# Preprocess reviews: Tokenization, removing stopwords, non-alphabetical characters\n",
    "def preprocess_text(texts):\n",
    "    stop_words = set(stopwords.words('english'))\n",
    "    preprocessed_texts = [\n",
    "        [word for word in word_tokenize(document.lower()) if word.isalpha() and word not in stop_words]\n",
    "        for document in texts]\n",
    "    return preprocessed_texts\n",
    "\n",
    "\n",
    "preprocessed_reviews = preprocess_text(reviews)\n"
   ]
  },
  {
   "cell_type": "code",
   "execution_count": null,
   "metadata": {},
   "outputs": [],
   "source": [
    "\n",
    "# Create a dictionary and corpus for LDA\n",
    "dictionary = corpora.Dictionary(preprocessed_reviews)\n",
    "corpus = [dictionary.doc2bow(text) for text in preprocessed_reviews]\n",
    "\n",
    "# Apply LDA\n",
    "num_topics = 5  # Adjust based on your data and needs\n",
    "lda_model = models.LdaModel(corpus=corpus, id2word=dictionary, num_topics=num_topics, random_state=42, passes=15,\n",
    "                            iterations=100)\n",
    "\n",
    "# Additional stopwords for category refinement\n",
    "additional_stopwords = {'get', 'great', 'like', 'really', 'good', 'gym', 'place', 'love', 'hate', 'one', 'trainer'}  # Add more words as needed\n",
    "\n"
   ]
  },
  {
   "cell_type": "code",
   "execution_count": null,
   "metadata": {},
   "outputs": [],
   "source": [
    "\n",
    "\n",
    "def preprocess_text(text):\n",
    "    stop_words = stopwords.words('english')\n",
    "    text = text.lower()  # Convert to lowercase\n",
    "    words = [word for word in text.split() if word not in stop_words]\n",
    "    # Stemming (uncomment if desired)\n",
    "    # words = [stemmer.stem(word) for word in words]\n",
    "    return \" \".join(words)\n",
    "\n",
    "\n",
    "def get_bert_embeddings(sentences):\n",
    "    # Tokenize sentences\n",
    "    tokenized_sentences = tokenizer(sentences, padding=True, truncation=True, return_tensors='pt')\n",
    "\n",
    "    # Get BERT embeddings\n",
    "    with torch.no_grad():\n",
    "        outputs = bert_model(**tokenized_sentences)\n",
    "        embeddings = outputs.last_hidden_state.mean(dim=1)\n",
    "\n",
    "    return embeddings\n",
    "\n",
    "def calculate_center(df):\n",
    "    centers = {}\n",
    "    for cluster in df['Cluster'].unique():\n",
    "        cluster_embeddings = df[df['Cluster'] == cluster]['bert_embeddings']\n",
    "        center = cluster_embeddings.apply(pd.Series)\n",
    "        center = center.mean()\n",
    "        centers[cluster] = center.tolist()\n",
    "    return centers\n",
    "\n",
    "\n",
    "def find_closest_sentence(df, centers):\n",
    "    closest_sentences = {}\n",
    "    for cluster, center in centers.items():\n",
    "        distances = [np.linalg.norm(np.pad(embedding, (0, len(center) - len(embedding)), 'constant') - center)\n",
    "                        for\n",
    "                        embedding in df[df['Cluster'] == cluster]['Vector'].values]\n",
    "        closest_index = distances.index(min(distances))\n",
    "        closest_sentences[cluster] = df[df['Cluster'] == cluster]['Sentences'].values[closest_index]\n",
    "    return closest_sentences\n",
    "\n",
    "\n",
    "def get_combined_categories(ldamodel, num_topics, num_keywords=5):\n",
    "    # Collect all words from all topics\n",
    "    all_keywords = []\n",
    "    for i in range(num_topics):\n",
    "        topic_terms = ldamodel.show_topic(i)\n",
    "        all_keywords.extend([word for word, _ in topic_terms])\n",
    "\n",
    "    # Count the frequency of each word\n",
    "    keyword_counts = Counter(all_keywords)\n",
    "\n",
    "    # Filter out additional stopwords\n",
    "    filtered_keywords = {word: count for word, count in keyword_counts.items() if word not in additional_stopwords}\n",
    "\n",
    "    # Get the most common words across all topics, after filtering\n",
    "    most_common_keywords = [word for word, count in Counter(filtered_keywords).most_common(num_keywords)]\n",
    "    return most_common_keywords\n",
    "\n"
   ]
  },
  {
   "cell_type": "code",
   "execution_count": null,
   "metadata": {},
   "outputs": [],
   "source": [
    "\n",
    "#review data type -- sentiment empty\n",
    "# -->\n",
    "\n",
    "# Sample gym reviews\n",
    "#reviews = [\n",
    "    #\"The staff at this gym are incredibly friendly and helpful. They always go the extra mile to make sure I have a great workout experience.\",\n",
    "    #\"The equipment is top-notch and well-maintained. They have a wide variety of machines for all my training needs.\",\n",
    "   # \"The gym is always clean and well-organized. It's a pleasure to work out in such a pleasant environment.\",\n",
    "  #  \"The staff could be a bit more attentive, but the equipment is good overall.\",\n",
    " #   \"This gym is a bit dirty at times, but the staff is friendly and the classes are great.\",\n",
    "#]\n",
    "\n",
    "df = pd.DataFrame(reviews, columns=['Sentences'])\n",
    "\n",
    "# Define your labels\n",
    "labels = get_combined_categories(lda_model, num_topics)\n",
    "\n",
    "# Preprocess reviews\n",
    "processed_reviews = [preprocess_text(review) for review in reviews]\n",
    "df['processed_sentences'] = processed_reviews\n",
    "\n",
    "\n",
    "label_tracker_dict = {}\n",
    "\n"
   ]
  },
  {
   "cell_type": "code",
   "execution_count": null,
   "metadata": {},
   "outputs": [],
   "source": [
    "# REVIEWS ARE PROCESSED WITH LABELS\n",
    "labels\n",
    "df"
   ]
  },
  {
   "cell_type": "code",
   "execution_count": null,
   "metadata": {},
   "outputs": [],
   "source": [
    "\n",
    "for i in range(0,len(labels)):\n",
    "    label_tracker_dict[i] = labels[i]\n",
    "\n",
    "# Convert labels to text for feature representation\n",
    "label_texts = [\" \".join([label, \"review is\"]) for label in labels]\n",
    "\n",
    "# Feature engineering with TF-IDF\n",
    "\n",
    "tokenizer = bt.from_pretrained('bert-base-uncased')\n",
    "# Get BERT embeddings for sentences\n",
    "embeddings = get_bert_embeddings(processed_reviews)\n",
    "label_embeddings = get_bert_embeddings(label_texts)\n",
    "# Save embeddings to DataFrame\n",
    "df['bert_embeddings'] = embeddings.tolist()\n",
    "\n"
   ]
  },
  {
   "cell_type": "code",
   "execution_count": null,
   "metadata": {},
   "outputs": [],
   "source": [
    "df"
   ]
  },
  {
   "cell_type": "code",
   "execution_count": null,
   "metadata": {},
   "outputs": [],
   "source": [
    "\n",
    "\n",
    "# HDBSCAN clustering\n",
    "clusterer = HDBSCAN(min_cluster_size=2,  # Allow any cluster size\n",
    "                             min_samples=2,         # Ensure exactly three clusters\n",
    "                             metric='euclidean',\n",
    "                             cluster_selection_method='leaf', # Choose 'eom' to automatically select the number of clusters\n",
    "                             prediction_data=True)\n",
    "  # Adjust parameters as needed\n",
    "clusterer.fit(embeddings)\n",
    "\n",
    "# Cluster centroids\n",
    "cluster_labels = clusterer.labels_\n",
    "\n",
    "df['cluster'] = cluster_labels\n",
    "\n",
    "centers = calculate_center(df)\n",
    "\n"
   ]
  },
  {
   "cell_type": "code",
   "execution_count": null,
   "metadata": {},
   "outputs": [],
   "source": [
    "df"
   ]
  },
  {
   "cell_type": "code",
   "execution_count": null,
   "metadata": {},
   "outputs": [],
   "source": [
    "# CLUSTERING \n",
    "\n",
    "# Cosine similarity with threshold -- fix cluster centroid here\n",
    "threshold = 0.62 # Adjust as needed\n",
    "assigned_labels = {}\n",
    "for cluster_id in centers.keys():\n",
    "    centroid = centers[cluster_id]\n",
    "    if cluster_id == -1:\n",
    "        assigned_labels[cluster_id] = [-1]\n",
    "        continue\n",
    "    centroid = pd.Series(centroid)\n",
    "    assigned_labels[cluster_id] = []\n",
    "    for label_id, label_vector in enumerate(label_embeddings):\n",
    "        label_vector = pd.Series(label_vector)\n",
    "        similarity = cosine_similarity(centroid.values.reshape(1, -1), label_vector.values.reshape(1, -1))[0][0]\n",
    "        if similarity > threshold:\n",
    "            curr_labels = assigned_labels[cluster_id]\n",
    "            curr_labels.append(label_id)\n",
    "            assigned_labels[cluster_id] = curr_labels\n",
    "\n",
    "for cluster_id in centers.keys():\n",
    "    if (len(assigned_labels[cluster_id]) == 0):\n",
    "        centroid = centers[cluster_id]\n",
    "        if (assigned_labels[cluster_id] == [-1]):\n",
    "            continue\n",
    "        centroid = pd.Series(centroid)\n",
    "        maximum = -1\n",
    "        for label_id, label_vector in enumerate(label_embeddings):\n",
    "            label_vector = pd.Series(label_vector)\n",
    "            similarity = cosine_similarity(centroid.values.reshape(1, -1), label_vector.values.reshape(1, -1))[0][0]\n",
    "            if similarity > maximum:\n",
    "                assigned_labels[cluster_id] = [label_id]\n",
    "                maximum = similarity\n",
    "\n",
    "\n",
    "# assign labels to all sentences seperately who are in cluster -1:\n",
    "\n",
    "for i in range(0, len(processed_reviews)):\n",
    "    if df['Cluster'][i] == -1:\n",
    "        maximum = -1\n",
    "        for label_id, label_vector in enumerate(label_embeddings):\n",
    "            label_vector = pd.Series(label_vector)\n",
    "            similarity = cosine_similarity(embeddings[i].reshape(1, -1), label_vector.values.reshape(1, -1))[0][0]\n",
    "            if similarity > maximum:\n",
    "                df['Cluster'][i] = label_id\n",
    "                maximum = similarity\n"
   ]
  },
  {
   "cell_type": "code",
   "execution_count": null,
   "metadata": {},
   "outputs": [],
   "source": [
    "df"
   ]
  },
  {
   "cell_type": "code",
   "execution_count": null,
   "metadata": {},
   "outputs": [],
   "source": [
    "\n",
    "\n",
    "\n",
    "df['assigned_label'] = df['Cluster'].map(assigned_labels)\n",
    "df['named_labels']  = df['assigned_label'].apply(lambda x: [label_tracker_dict[num] for num in x])\n",
    "print('breakpoint')\n"
   ]
  },
  {
   "cell_type": "code",
   "execution_count": null,
   "metadata": {},
   "outputs": [],
   "source": [
    "df"
   ]
  },
  {
   "cell_type": "code",
   "execution_count": null,
   "metadata": {},
   "outputs": [],
   "source": [
    "\n",
    "\n",
    "for i in range(0, len(processed_reviews)):\n",
    "    for j in labels:\n",
    "        if j in processed_reviews[i]:\n",
    "            if j in df['named_labels'][i]:\n",
    "                continue\n",
    "            else:\n",
    "                curr = df['named_labels'][i]\n",
    "                curr.append(j)\n",
    "# Print results\n",
    "print(\"Reviews:\")\n",
    "for i, review in enumerate(reviews):\n",
    "    print(f\"- Review {i+1}: {review}\")\n",
    "\n",
    "print(\"\\nClusters and assigned labels:\")\n",
    "for cluster_id, labels in assigned_labels.items():\n",
    "    print(f\"- Cluster {cluster_id+1}:\", \", \".join(str(labels)))\n"
   ]
  },
  {
   "cell_type": "code",
   "execution_count": null,
   "metadata": {},
   "outputs": [],
   "source": [
    "\n",
    "#import textblob and run it on all the reviews and add a value of sentiment and polarity to the dataframe\n",
    "\n",
    "sentiments = []\n",
    "polarities = []\n",
    "#use the normal reviews\n",
    "for review in reviews:\n",
    "    blob = TextBlob(review)\n",
    "    sentiments.append(blob.sentiment[0] * 2.5 + 2.5)\n",
    "    polarities.append(blob.sentiment[1]  * 2.5 + 2.5)\n",
    "#now add to dataframe\n",
    "df['sentiment'] = sentiments\n",
    "df['polarity'] = polarities\n",
    "categories_summaries_sentiments = defaultdict(list)\n",
    "categores_summaries_polarities = defaultdict(list)\n",
    "for i in range(0, len(df)):\n",
    "    for j in df['named_labels'][i]:\n",
    "        categories_summaries_sentiments[j].append(df['sentiment'][i])\n",
    "        categores_summaries_polarities[j].append(df['polarity'][i])\n",
    "\n",
    "\n",
    "df_summaries = pd.DataFrame(columns=['Category', 'Average Sentiment', 'Average Polarity'])\n",
    "for i in categories_summaries_sentiments.keys():\n",
    "    #add a row to the dataframe using df.loc\n",
    "    df_summaries.loc[len(df_summaries)] = [i, sum(categories_summaries_sentiments[i])/len(categories_summaries_sentiments[i]), sum(categores_summaries_polarities[i])/len(categores_summaries_polarities[i])]\n",
    "print(df_summaries)\n",
    "\n",
    "\n",
    "\n",
    "#store df to store the sentences\n",
    "#store df_summaries to store scores"
   ]
  },
  {
   "cell_type": "code",
   "execution_count": null,
   "metadata": {},
   "outputs": [],
   "source": [
    "df\n",
    "df[\"company_id\"] = \"google1\"\n",
    "df[\"industry_id\"] = \"1\"\n",
    "df[\"platform_id\"] = \"1\"\n",
    "df[\"date\"] = \"\"\n",
    "\n"
   ]
  },
  {
   "cell_type": "code",
   "execution_count": 12,
   "metadata": {},
   "outputs": [
    {
     "name": "stdout",
     "output_type": "stream",
     "text": [
      "Authentication successful!\n"
     ]
    }
   ],
   "source": [
    "import json\n",
    "import csv\n",
    "from pymongo import MongoClient\n",
    "import dotenv\n",
    "from dotenv import load_dotenv\n",
    "import os\n",
    "\n",
    "load_dotenv()\n",
    "\n",
    "final\n",
    "\n",
    "connection_string = os.environ.get(\"MONGO_URL\")\n",
    "client = MongoClient(connection_string)\n",
    "\n",
    "client\n",
    "# Check if authentication was successful\n",
    "try:\n",
    "    database_names = client.list_database_names()\n",
    "    print(\"Authentication successful!\")\n",
    "except Exception as e:\n",
    "    print(\"Authentication failed:\", str(e))\n"
   ]
  },
  {
   "cell_type": "code",
   "execution_count": 13,
   "metadata": {},
   "outputs": [
    {
     "data": {
      "text/plain": [
       "InsertManyResult([ObjectId('6648ddde210487740bae4f35'), ObjectId('6648ddde210487740bae4f36'), ObjectId('6648ddde210487740bae4f37'), ObjectId('6648ddde210487740bae4f38'), ObjectId('6648ddde210487740bae4f39'), ObjectId('6648ddde210487740bae4f3a'), ObjectId('6648ddde210487740bae4f3b'), ObjectId('6648ddde210487740bae4f3c'), ObjectId('6648ddde210487740bae4f3d'), ObjectId('6648ddde210487740bae4f3e'), ObjectId('6648ddde210487740bae4f3f'), ObjectId('6648ddde210487740bae4f40'), ObjectId('6648ddde210487740bae4f41'), ObjectId('6648ddde210487740bae4f42'), ObjectId('6648ddde210487740bae4f43'), ObjectId('6648ddde210487740bae4f44'), ObjectId('6648ddde210487740bae4f45'), ObjectId('6648ddde210487740bae4f46'), ObjectId('6648ddde210487740bae4f47'), ObjectId('6648ddde210487740bae4f48'), ObjectId('6648ddde210487740bae4f49'), ObjectId('6648ddde210487740bae4f4a'), ObjectId('6648ddde210487740bae4f4b'), ObjectId('6648ddde210487740bae4f4c'), ObjectId('6648ddde210487740bae4f4d'), ObjectId('6648ddde210487740bae4f4e'), ObjectId('6648ddde210487740bae4f4f'), ObjectId('6648ddde210487740bae4f50'), ObjectId('6648ddde210487740bae4f51'), ObjectId('6648ddde210487740bae4f52'), ObjectId('6648ddde210487740bae4f53'), ObjectId('6648ddde210487740bae4f54'), ObjectId('6648ddde210487740bae4f55'), ObjectId('6648ddde210487740bae4f56'), ObjectId('6648ddde210487740bae4f57'), ObjectId('6648ddde210487740bae4f58'), ObjectId('6648ddde210487740bae4f59'), ObjectId('6648ddde210487740bae4f5a'), ObjectId('6648ddde210487740bae4f5b'), ObjectId('6648ddde210487740bae4f5c'), ObjectId('6648ddde210487740bae4f5d'), ObjectId('6648ddde210487740bae4f5e'), ObjectId('6648ddde210487740bae4f5f'), ObjectId('6648ddde210487740bae4f60'), ObjectId('6648ddde210487740bae4f61'), ObjectId('6648ddde210487740bae4f62'), ObjectId('6648ddde210487740bae4f63'), ObjectId('6648ddde210487740bae4f64'), ObjectId('6648ddde210487740bae4f65'), ObjectId('6648ddde210487740bae4f66'), ObjectId('6648ddde210487740bae4f67'), ObjectId('6648ddde210487740bae4f68'), ObjectId('6648ddde210487740bae4f69'), ObjectId('6648ddde210487740bae4f6a'), ObjectId('6648ddde210487740bae4f6b'), ObjectId('6648ddde210487740bae4f6c'), ObjectId('6648ddde210487740bae4f6d'), ObjectId('6648ddde210487740bae4f6e'), ObjectId('6648ddde210487740bae4f6f'), ObjectId('6648ddde210487740bae4f70'), ObjectId('6648ddde210487740bae4f71'), ObjectId('6648ddde210487740bae4f72'), ObjectId('6648ddde210487740bae4f73'), ObjectId('6648ddde210487740bae4f74'), ObjectId('6648ddde210487740bae4f75'), ObjectId('6648ddde210487740bae4f76'), ObjectId('6648ddde210487740bae4f77'), ObjectId('6648ddde210487740bae4f78'), ObjectId('6648ddde210487740bae4f79'), ObjectId('6648ddde210487740bae4f7a'), ObjectId('6648ddde210487740bae4f7b'), ObjectId('6648ddde210487740bae4f7c'), ObjectId('6648ddde210487740bae4f7d'), ObjectId('6648ddde210487740bae4f7e'), ObjectId('6648ddde210487740bae4f7f'), ObjectId('6648ddde210487740bae4f80'), ObjectId('6648ddde210487740bae4f81'), ObjectId('6648ddde210487740bae4f82'), ObjectId('6648ddde210487740bae4f83'), ObjectId('6648ddde210487740bae4f84'), ObjectId('6648ddde210487740bae4f85'), ObjectId('6648ddde210487740bae4f86'), ObjectId('6648ddde210487740bae4f87'), ObjectId('6648ddde210487740bae4f88'), ObjectId('6648ddde210487740bae4f89'), ObjectId('6648ddde210487740bae4f8a'), ObjectId('6648ddde210487740bae4f8b'), ObjectId('6648ddde210487740bae4f8c'), ObjectId('6648ddde210487740bae4f8d'), ObjectId('6648ddde210487740bae4f8e'), ObjectId('6648ddde210487740bae4f8f'), ObjectId('6648ddde210487740bae4f90'), ObjectId('6648ddde210487740bae4f91'), ObjectId('6648ddde210487740bae4f92'), ObjectId('6648ddde210487740bae4f93'), ObjectId('6648ddde210487740bae4f94'), ObjectId('6648ddde210487740bae4f95'), ObjectId('6648ddde210487740bae4f96'), ObjectId('6648ddde210487740bae4f97'), ObjectId('6648ddde210487740bae4f98'), ObjectId('6648ddde210487740bae4f99'), ObjectId('6648ddde210487740bae4f9a'), ObjectId('6648ddde210487740bae4f9b'), ObjectId('6648ddde210487740bae4f9c'), ObjectId('6648ddde210487740bae4f9d'), ObjectId('6648ddde210487740bae4f9e'), ObjectId('6648ddde210487740bae4f9f'), ObjectId('6648ddde210487740bae4fa0'), ObjectId('6648ddde210487740bae4fa1'), ObjectId('6648ddde210487740bae4fa2'), ObjectId('6648ddde210487740bae4fa3'), ObjectId('6648ddde210487740bae4fa4'), ObjectId('6648ddde210487740bae4fa5'), ObjectId('6648ddde210487740bae4fa6'), ObjectId('6648ddde210487740bae4fa7'), ObjectId('6648ddde210487740bae4fa8'), ObjectId('6648ddde210487740bae4fa9'), ObjectId('6648ddde210487740bae4faa'), ObjectId('6648ddde210487740bae4fab'), ObjectId('6648ddde210487740bae4fac'), ObjectId('6648ddde210487740bae4fad'), ObjectId('6648ddde210487740bae4fae'), ObjectId('6648ddde210487740bae4faf'), ObjectId('6648ddde210487740bae4fb0'), ObjectId('6648ddde210487740bae4fb1'), ObjectId('6648ddde210487740bae4fb2'), ObjectId('6648ddde210487740bae4fb3'), ObjectId('6648ddde210487740bae4fb4'), ObjectId('6648ddde210487740bae4fb5'), ObjectId('6648ddde210487740bae4fb6'), ObjectId('6648ddde210487740bae4fb7'), ObjectId('6648ddde210487740bae4fb8'), ObjectId('6648ddde210487740bae4fb9'), ObjectId('6648ddde210487740bae4fba'), ObjectId('6648ddde210487740bae4fbb'), ObjectId('6648ddde210487740bae4fbc'), ObjectId('6648ddde210487740bae4fbd'), ObjectId('6648ddde210487740bae4fbe'), ObjectId('6648ddde210487740bae4fbf'), ObjectId('6648ddde210487740bae4fc0'), ObjectId('6648ddde210487740bae4fc1'), ObjectId('6648ddde210487740bae4fc2'), ObjectId('6648ddde210487740bae4fc3'), ObjectId('6648ddde210487740bae4fc4'), ObjectId('6648ddde210487740bae4fc5'), ObjectId('6648ddde210487740bae4fc6'), ObjectId('6648ddde210487740bae4fc7'), ObjectId('6648ddde210487740bae4fc8'), ObjectId('6648ddde210487740bae4fc9'), ObjectId('6648ddde210487740bae4fca'), ObjectId('6648ddde210487740bae4fcb'), ObjectId('6648ddde210487740bae4fcc'), ObjectId('6648ddde210487740bae4fcd'), ObjectId('6648ddde210487740bae4fce'), ObjectId('6648ddde210487740bae4fcf'), ObjectId('6648ddde210487740bae4fd0'), ObjectId('6648ddde210487740bae4fd1'), ObjectId('6648ddde210487740bae4fd2'), ObjectId('6648ddde210487740bae4fd3'), ObjectId('6648ddde210487740bae4fd4'), ObjectId('6648ddde210487740bae4fd5'), ObjectId('6648ddde210487740bae4fd6'), ObjectId('6648ddde210487740bae4fd7'), ObjectId('6648ddde210487740bae4fd8'), ObjectId('6648ddde210487740bae4fd9'), ObjectId('6648ddde210487740bae4fda'), ObjectId('6648ddde210487740bae4fdb'), ObjectId('6648ddde210487740bae4fdc'), ObjectId('6648ddde210487740bae4fdd'), ObjectId('6648ddde210487740bae4fde'), ObjectId('6648ddde210487740bae4fdf'), ObjectId('6648ddde210487740bae4fe0'), ObjectId('6648ddde210487740bae4fe1'), ObjectId('6648ddde210487740bae4fe2'), ObjectId('6648ddde210487740bae4fe3'), ObjectId('6648ddde210487740bae4fe4'), ObjectId('6648ddde210487740bae4fe5'), ObjectId('6648ddde210487740bae4fe6'), ObjectId('6648ddde210487740bae4fe7'), ObjectId('6648ddde210487740bae4fe8'), ObjectId('6648ddde210487740bae4fe9'), ObjectId('6648ddde210487740bae4fea'), ObjectId('6648ddde210487740bae4feb'), ObjectId('6648ddde210487740bae4fec'), ObjectId('6648ddde210487740bae4fed'), ObjectId('6648ddde210487740bae4fee'), ObjectId('6648ddde210487740bae4fef'), ObjectId('6648ddde210487740bae4ff0'), ObjectId('6648ddde210487740bae4ff1'), ObjectId('6648ddde210487740bae4ff2'), ObjectId('6648ddde210487740bae4ff3'), ObjectId('6648ddde210487740bae4ff4'), ObjectId('6648ddde210487740bae4ff5'), ObjectId('6648ddde210487740bae4ff6'), ObjectId('6648ddde210487740bae4ff7'), ObjectId('6648ddde210487740bae4ff8'), ObjectId('6648ddde210487740bae4ff9'), ObjectId('6648ddde210487740bae4ffa'), ObjectId('6648ddde210487740bae4ffb'), ObjectId('6648ddde210487740bae4ffc'), ObjectId('6648ddde210487740bae4ffd'), ObjectId('6648ddde210487740bae4ffe'), ObjectId('6648ddde210487740bae4fff'), ObjectId('6648ddde210487740bae5000'), ObjectId('6648ddde210487740bae5001'), ObjectId('6648ddde210487740bae5002'), ObjectId('6648ddde210487740bae5003'), ObjectId('6648ddde210487740bae5004'), ObjectId('6648ddde210487740bae5005'), ObjectId('6648ddde210487740bae5006'), ObjectId('6648ddde210487740bae5007'), ObjectId('6648ddde210487740bae5008'), ObjectId('6648ddde210487740bae5009'), ObjectId('6648ddde210487740bae500a'), ObjectId('6648ddde210487740bae500b'), ObjectId('6648ddde210487740bae500c'), ObjectId('6648ddde210487740bae500d'), ObjectId('6648ddde210487740bae500e'), ObjectId('6648ddde210487740bae500f'), ObjectId('6648ddde210487740bae5010'), ObjectId('6648ddde210487740bae5011'), ObjectId('6648ddde210487740bae5012'), ObjectId('6648ddde210487740bae5013'), ObjectId('6648ddde210487740bae5014'), ObjectId('6648ddde210487740bae5015'), ObjectId('6648ddde210487740bae5016'), ObjectId('6648ddde210487740bae5017'), ObjectId('6648ddde210487740bae5018'), ObjectId('6648ddde210487740bae5019'), ObjectId('6648ddde210487740bae501a'), ObjectId('6648ddde210487740bae501b'), ObjectId('6648ddde210487740bae501c'), ObjectId('6648ddde210487740bae501d'), ObjectId('6648ddde210487740bae501e'), ObjectId('6648ddde210487740bae501f'), ObjectId('6648ddde210487740bae5020'), ObjectId('6648ddde210487740bae5021'), ObjectId('6648ddde210487740bae5022'), ObjectId('6648ddde210487740bae5023'), ObjectId('6648ddde210487740bae5024'), ObjectId('6648ddde210487740bae5025'), ObjectId('6648ddde210487740bae5026'), ObjectId('6648ddde210487740bae5027'), ObjectId('6648ddde210487740bae5028'), ObjectId('6648ddde210487740bae5029'), ObjectId('6648ddde210487740bae502a'), ObjectId('6648ddde210487740bae502b'), ObjectId('6648ddde210487740bae502c'), ObjectId('6648ddde210487740bae502d'), ObjectId('6648ddde210487740bae502e'), ObjectId('6648ddde210487740bae502f'), ObjectId('6648ddde210487740bae5030'), ObjectId('6648ddde210487740bae5031'), ObjectId('6648ddde210487740bae5032'), ObjectId('6648ddde210487740bae5033'), ObjectId('6648ddde210487740bae5034'), ObjectId('6648ddde210487740bae5035'), ObjectId('6648ddde210487740bae5036'), ObjectId('6648ddde210487740bae5037'), ObjectId('6648ddde210487740bae5038'), ObjectId('6648ddde210487740bae5039'), ObjectId('6648ddde210487740bae503a'), ObjectId('6648ddde210487740bae503b'), ObjectId('6648ddde210487740bae503c'), ObjectId('6648ddde210487740bae503d'), ObjectId('6648ddde210487740bae503e'), ObjectId('6648ddde210487740bae503f'), ObjectId('6648ddde210487740bae5040'), ObjectId('6648ddde210487740bae5041'), ObjectId('6648ddde210487740bae5042'), ObjectId('6648ddde210487740bae5043'), ObjectId('6648ddde210487740bae5044'), ObjectId('6648ddde210487740bae5045'), ObjectId('6648ddde210487740bae5046'), ObjectId('6648ddde210487740bae5047'), ObjectId('6648ddde210487740bae5048'), ObjectId('6648ddde210487740bae5049'), ObjectId('6648ddde210487740bae504a'), ObjectId('6648ddde210487740bae504b'), ObjectId('6648ddde210487740bae504c'), ObjectId('6648ddde210487740bae504d'), ObjectId('6648ddde210487740bae504e'), ObjectId('6648ddde210487740bae504f'), ObjectId('6648ddde210487740bae5050'), ObjectId('6648ddde210487740bae5051'), ObjectId('6648ddde210487740bae5052'), ObjectId('6648ddde210487740bae5053'), ObjectId('6648ddde210487740bae5054'), ObjectId('6648ddde210487740bae5055'), ObjectId('6648ddde210487740bae5056'), ObjectId('6648ddde210487740bae5057'), ObjectId('6648ddde210487740bae5058'), ObjectId('6648ddde210487740bae5059'), ObjectId('6648ddde210487740bae505a'), ObjectId('6648ddde210487740bae505b'), ObjectId('6648ddde210487740bae505c'), ObjectId('6648ddde210487740bae505d'), ObjectId('6648ddde210487740bae505e'), ObjectId('6648ddde210487740bae505f'), ObjectId('6648ddde210487740bae5060'), ObjectId('6648ddde210487740bae5061'), ObjectId('6648ddde210487740bae5062'), ObjectId('6648ddde210487740bae5063'), ObjectId('6648ddde210487740bae5064'), ObjectId('6648ddde210487740bae5065'), ObjectId('6648ddde210487740bae5066'), ObjectId('6648ddde210487740bae5067'), ObjectId('6648ddde210487740bae5068'), ObjectId('6648ddde210487740bae5069'), ObjectId('6648ddde210487740bae506a'), ObjectId('6648ddde210487740bae506b'), ObjectId('6648ddde210487740bae506c'), ObjectId('6648ddde210487740bae506d'), ObjectId('6648ddde210487740bae506e'), ObjectId('6648ddde210487740bae506f'), ObjectId('6648ddde210487740bae5070'), ObjectId('6648ddde210487740bae5071'), ObjectId('6648ddde210487740bae5072'), ObjectId('6648ddde210487740bae5073'), ObjectId('6648ddde210487740bae5074'), ObjectId('6648ddde210487740bae5075'), ObjectId('6648ddde210487740bae5076'), ObjectId('6648ddde210487740bae5077'), ObjectId('6648ddde210487740bae5078'), ObjectId('6648ddde210487740bae5079'), ObjectId('6648ddde210487740bae507a'), ObjectId('6648ddde210487740bae507b'), ObjectId('6648ddde210487740bae507c'), ObjectId('6648ddde210487740bae507d'), ObjectId('6648ddde210487740bae507e'), ObjectId('6648ddde210487740bae507f'), ObjectId('6648ddde210487740bae5080'), ObjectId('6648ddde210487740bae5081'), ObjectId('6648ddde210487740bae5082'), ObjectId('6648ddde210487740bae5083'), ObjectId('6648ddde210487740bae5084'), ObjectId('6648ddde210487740bae5085'), ObjectId('6648ddde210487740bae5086'), ObjectId('6648ddde210487740bae5087'), ObjectId('6648ddde210487740bae5088'), ObjectId('6648ddde210487740bae5089'), ObjectId('6648ddde210487740bae508a'), ObjectId('6648ddde210487740bae508b'), ObjectId('6648ddde210487740bae508c'), ObjectId('6648ddde210487740bae508d'), ObjectId('6648ddde210487740bae508e'), ObjectId('6648ddde210487740bae508f'), ObjectId('6648ddde210487740bae5090'), ObjectId('6648ddde210487740bae5091'), ObjectId('6648ddde210487740bae5092'), ObjectId('6648ddde210487740bae5093'), ObjectId('6648ddde210487740bae5094'), ObjectId('6648ddde210487740bae5095'), ObjectId('6648ddde210487740bae5096'), ObjectId('6648ddde210487740bae5097'), ObjectId('6648ddde210487740bae5098'), ObjectId('6648ddde210487740bae5099'), ObjectId('6648ddde210487740bae509a'), ObjectId('6648ddde210487740bae509b'), ObjectId('6648ddde210487740bae509c'), ObjectId('6648ddde210487740bae509d'), ObjectId('6648ddde210487740bae509e'), ObjectId('6648ddde210487740bae509f'), ObjectId('6648ddde210487740bae50a0'), ObjectId('6648ddde210487740bae50a1'), ObjectId('6648ddde210487740bae50a2'), ObjectId('6648ddde210487740bae50a3'), ObjectId('6648ddde210487740bae50a4'), ObjectId('6648ddde210487740bae50a5'), ObjectId('6648ddde210487740bae50a6'), ObjectId('6648ddde210487740bae50a7'), ObjectId('6648ddde210487740bae50a8'), ObjectId('6648ddde210487740bae50a9'), ObjectId('6648ddde210487740bae50aa'), ObjectId('6648ddde210487740bae50ab'), ObjectId('6648ddde210487740bae50ac'), ObjectId('6648ddde210487740bae50ad'), ObjectId('6648ddde210487740bae50ae'), ObjectId('6648ddde210487740bae50af'), ObjectId('6648ddde210487740bae50b0'), ObjectId('6648ddde210487740bae50b1'), ObjectId('6648ddde210487740bae50b2'), ObjectId('6648ddde210487740bae50b3'), ObjectId('6648ddde210487740bae50b4'), ObjectId('6648ddde210487740bae50b5'), ObjectId('6648ddde210487740bae50b6'), ObjectId('6648ddde210487740bae50b7'), ObjectId('6648ddde210487740bae50b8'), ObjectId('6648ddde210487740bae50b9'), ObjectId('6648ddde210487740bae50ba'), ObjectId('6648ddde210487740bae50bb'), ObjectId('6648ddde210487740bae50bc'), ObjectId('6648ddde210487740bae50bd'), ObjectId('6648ddde210487740bae50be'), ObjectId('6648ddde210487740bae50bf'), ObjectId('6648ddde210487740bae50c0'), ObjectId('6648ddde210487740bae50c1'), ObjectId('6648ddde210487740bae50c2'), ObjectId('6648ddde210487740bae50c3'), ObjectId('6648ddde210487740bae50c4'), ObjectId('6648ddde210487740bae50c5'), ObjectId('6648ddde210487740bae50c6'), ObjectId('6648ddde210487740bae50c7'), ObjectId('6648ddde210487740bae50c8'), ObjectId('6648ddde210487740bae50c9'), ObjectId('6648ddde210487740bae50ca'), ObjectId('6648ddde210487740bae50cb'), ObjectId('6648ddde210487740bae50cc'), ObjectId('6648ddde210487740bae50cd'), ObjectId('6648ddde210487740bae50ce'), ObjectId('6648ddde210487740bae50cf'), ObjectId('6648ddde210487740bae50d0'), ObjectId('6648ddde210487740bae50d1'), ObjectId('6648ddde210487740bae50d2'), ObjectId('6648ddde210487740bae50d3'), ObjectId('6648ddde210487740bae50d4'), ObjectId('6648ddde210487740bae50d5'), ObjectId('6648ddde210487740bae50d6'), ObjectId('6648ddde210487740bae50d7'), ObjectId('6648ddde210487740bae50d8'), ObjectId('6648ddde210487740bae50d9'), ObjectId('6648ddde210487740bae50da'), ObjectId('6648ddde210487740bae50db'), ObjectId('6648ddde210487740bae50dc'), ObjectId('6648ddde210487740bae50dd'), ObjectId('6648ddde210487740bae50de'), ObjectId('6648ddde210487740bae50df'), ObjectId('6648ddde210487740bae50e0'), ObjectId('6648ddde210487740bae50e1'), ObjectId('6648ddde210487740bae50e2'), ObjectId('6648ddde210487740bae50e3'), ObjectId('6648ddde210487740bae50e4'), ObjectId('6648ddde210487740bae50e5'), ObjectId('6648ddde210487740bae50e6'), ObjectId('6648ddde210487740bae50e7'), ObjectId('6648ddde210487740bae50e8'), ObjectId('6648ddde210487740bae50e9'), ObjectId('6648ddde210487740bae50ea'), ObjectId('6648ddde210487740bae50eb'), ObjectId('6648ddde210487740bae50ec'), ObjectId('6648ddde210487740bae50ed'), ObjectId('6648ddde210487740bae50ee'), ObjectId('6648ddde210487740bae50ef'), ObjectId('6648ddde210487740bae50f0'), ObjectId('6648ddde210487740bae50f1'), ObjectId('6648ddde210487740bae50f2'), ObjectId('6648ddde210487740bae50f3'), ObjectId('6648ddde210487740bae50f4'), ObjectId('6648ddde210487740bae50f5'), ObjectId('6648ddde210487740bae50f6'), ObjectId('6648ddde210487740bae50f7'), ObjectId('6648ddde210487740bae50f8'), ObjectId('6648ddde210487740bae50f9'), ObjectId('6648ddde210487740bae50fa'), ObjectId('6648ddde210487740bae50fb'), ObjectId('6648ddde210487740bae50fc'), ObjectId('6648ddde210487740bae50fd'), ObjectId('6648ddde210487740bae50fe'), ObjectId('6648ddde210487740bae50ff'), ObjectId('6648ddde210487740bae5100'), ObjectId('6648ddde210487740bae5101'), ObjectId('6648ddde210487740bae5102'), ObjectId('6648ddde210487740bae5103'), ObjectId('6648ddde210487740bae5104'), ObjectId('6648ddde210487740bae5105'), ObjectId('6648ddde210487740bae5106'), ObjectId('6648ddde210487740bae5107'), ObjectId('6648ddde210487740bae5108'), ObjectId('6648ddde210487740bae5109'), ObjectId('6648ddde210487740bae510a'), ObjectId('6648ddde210487740bae510b'), ObjectId('6648ddde210487740bae510c')], acknowledged=True)"
      ]
     },
     "execution_count": 13,
     "metadata": {},
     "output_type": "execute_result"
    }
   ],
   "source": [
    "\n",
    "db = client['Frontend']\n",
    "\n",
    "data = final.to_dict(orient=\"records\")\n",
    "\n",
    "# Insert the data into MongoDB\n",
    "collection = db[\"Reviews_testing\"]\n",
    "\n",
    "collection.insert_many(data)"
   ]
  },
  {
   "cell_type": "code",
   "execution_count": null,
   "metadata": {},
   "outputs": [],
   "source": []
  }
 ],
 "metadata": {
  "kernelspec": {
   "display_name": "base",
   "language": "python",
   "name": "python3"
  },
  "language_info": {
   "codemirror_mode": {
    "name": "ipython",
    "version": 3
   },
   "file_extension": ".py",
   "mimetype": "text/x-python",
   "name": "python",
   "nbconvert_exporter": "python",
   "pygments_lexer": "ipython3",
   "version": "3.11.4"
  }
 },
 "nbformat": 4,
 "nbformat_minor": 2
}
